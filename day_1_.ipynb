{
  "nbformat": 4,
  "nbformat_minor": 0,
  "metadata": {
    "colab": {
      "provenance": [],
      "authorship_tag": "ABX9TyOgBA0FgFOuuBokC0+qNPtU",
      "include_colab_link": true
    },
    "kernelspec": {
      "name": "python3",
      "display_name": "Python 3"
    },
    "language_info": {
      "name": "python"
    }
  },
  "cells": [
    {
      "cell_type": "markdown",
      "metadata": {
        "id": "view-in-github",
        "colab_type": "text"
      },
      "source": [
        "<a href=\"https://colab.research.google.com/github/Abi0p/DATA_SCIENCE_ECOSYSTEM/blob/main/day_1_.ipynb\" target=\"_parent\"><img src=\"https://colab.research.google.com/assets/colab-badge.svg\" alt=\"Open In Colab\"/></a>"
      ]
    },
    {
      "cell_type": "code",
      "execution_count": null,
      "metadata": {
        "colab": {
          "base_uri": "https://localhost:8080/"
        },
        "id": "uMwAPxo7NSPe",
        "outputId": "9f4d0de6-6ca9-4441-adea-b0286b9e867f"
      },
      "outputs": [
        {
          "output_type": "stream",
          "name": "stdout",
          "text": [
            "Abir \n"
          ]
        }
      ],
      "source": [
        "print ('Abir ')"
      ]
    },
    {
      "cell_type": "code",
      "source": [
        "x = int(input(\"enter the number\"))\n",
        "y = int (input('enter the number2'))\n",
        "z = x+y\n",
        "print (z)"
      ],
      "metadata": {
        "colab": {
          "base_uri": "https://localhost:8080/"
        },
        "id": "5NN3f0EcPf4D",
        "outputId": "2024dee5-0517-4b78-8f59-63d4d647def4"
      },
      "execution_count": null,
      "outputs": [
        {
          "output_type": "stream",
          "name": "stdout",
          "text": [
            "enter the number9\n",
            "enter the number210\n",
            "19\n"
          ]
        }
      ]
    },
    {
      "cell_type": "code",
      "source": [
        "first_name = input(\"enter the first name\")\n",
        "last_name  = input(\"enter the last name \")\n",
        "print (first_name)\n",
        "print (last_name)\n",
        "print (first_name + \" \"+  last_name)"
      ],
      "metadata": {
        "colab": {
          "base_uri": "https://localhost:8080/"
        },
        "id": "aKJIzAIHR345",
        "outputId": "236e7d69-8ccb-4071-ec92-7207331b6ca8"
      },
      "execution_count": null,
      "outputs": [
        {
          "output_type": "stream",
          "name": "stdout",
          "text": [
            "enter the first nameabir \n",
            "enter the last name datta\n",
            "abir \n",
            "datta\n",
            "abir  datta\n"
          ]
        }
      ]
    },
    {
      "cell_type": "code",
      "source": [
        "x = int(input())\n",
        "if (x%2==0):\n",
        "  print ('even')\n",
        "else:\n",
        "  print('odd')"
      ],
      "metadata": {
        "id": "jXxYTxxpTaXn",
        "colab": {
          "base_uri": "https://localhost:8080/"
        },
        "outputId": "acbd15bf-08ce-4079-9d28-478b965ff5f3"
      },
      "execution_count": 11,
      "outputs": [
        {
          "output_type": "stream",
          "name": "stdout",
          "text": [
            "5\n",
            "odd\n"
          ]
        }
      ]
    },
    {
      "cell_type": "code",
      "source": [],
      "metadata": {
        "id": "FvPn9xtojm25"
      },
      "execution_count": null,
      "outputs": []
    },
    {
      "cell_type": "code",
      "source": [
        "x = int(input())\n",
        "y = (x*10)\n",
        "print (y)"
      ],
      "metadata": {
        "colab": {
          "base_uri": "https://localhost:8080/"
        },
        "id": "s6n0YdVAVig6",
        "outputId": "c7175e37-6eb9-4fd3-814c-34e9c502f4a2"
      },
      "execution_count": null,
      "outputs": [
        {
          "output_type": "stream",
          "name": "stdout",
          "text": [
            "5\n",
            "50\n"
          ]
        }
      ]
    },
    {
      "cell_type": "code",
      "source": [
        "x = int(input('enter the number '))\n",
        "y = -x\n",
        "print (y)"
      ],
      "metadata": {
        "colab": {
          "base_uri": "https://localhost:8080/"
        },
        "id": "mSo9fKRnhmqu",
        "outputId": "b3fe5e39-c267-4e29-d29f-e38f2cc5694a"
      },
      "execution_count": null,
      "outputs": [
        {
          "output_type": "stream",
          "name": "stdout",
          "text": [
            "enter the number 10\n",
            "-10\n"
          ]
        }
      ]
    },
    {
      "cell_type": "code",
      "source": [
        "x = int(input('enter the number1 '))\n",
        "y = int(input('enter the number2 '))\n",
        "z = int(input('enter the number3 '))\n",
        "if (x+y==z):\n",
        "  print (\"sum of x and y is equal to y\")\n",
        "else:\n",
        "  print ('sum of x and y is not  equal to y')"
      ],
      "metadata": {
        "colab": {
          "base_uri": "https://localhost:8080/"
        },
        "id": "OaZJHP7HiAWj",
        "outputId": "51289e3a-9a9e-4a2b-e10b-88e6393aa823"
      },
      "execution_count": null,
      "outputs": [
        {
          "output_type": "stream",
          "name": "stdout",
          "text": [
            "enter the number1 5\n",
            "enter the number2 10\n",
            "enter the number3 20\n",
            "sum of x and y is not  equal to y\n"
          ]
        }
      ]
    },
    {
      "cell_type": "code",
      "source": [
        "x = int(input())\n",
        "if (x%5==0):\n",
        "  print ('DIVISIBLE BY 5')\n",
        "else:\n",
        "  print('NOT DIVISIBLE BY 5')"
      ],
      "metadata": {
        "id": "JvmmVUs9jn5B",
        "colab": {
          "base_uri": "https://localhost:8080/"
        },
        "outputId": "65f87af8-6510-4cd3-e786-b03617224412"
      },
      "execution_count": 12,
      "outputs": [
        {
          "output_type": "stream",
          "name": "stdout",
          "text": [
            "5\n",
            "DIVISIBLE BY 5\n"
          ]
        }
      ]
    },
    {
      "cell_type": "code",
      "source": [
        "x = int(input('enter the number1 '))\n",
        "y = int(input('enter the number2 '))\n",
        "z = int(input('enter the number3 '))\n",
        "if ( x>y & x>z):\n",
        "  print ('x is greater than y and z')\n",
        "elif (y>x & y>z):\n",
        "  print ('y is greater than x and z')\n",
        "else:\n",
        "  print ('z is greater than y and x')\n"
      ],
      "metadata": {
        "id": "jgv7n4Sdj9bE",
        "colab": {
          "base_uri": "https://localhost:8080/"
        },
        "outputId": "2b3cd3c3-6303-4e8d-ba76-4431b46a7a09"
      },
      "execution_count": 13,
      "outputs": [
        {
          "output_type": "stream",
          "name": "stdout",
          "text": [
            "enter the number1 5\n",
            "enter the number2 6\n",
            "enter the number3 10\n",
            "z is greater than y and x\n"
          ]
        }
      ]
    },
    {
      "cell_type": "code",
      "source": [
        "def find_minimum (numbers):\n",
        "  minimum_num = numbers[0]\n",
        "  for num in numbers :\n",
        "    if (num < minimum_num):\n",
        "       minimum_num = num\n",
        "  return minimum_num\n",
        "def main() :\n",
        "  numbers = []\n",
        "  for i in range(5):\n",
        "    num = float(input(f\"enter the number{i+1}:  \"))\n",
        "    numbers.append(num)\n",
        "\n",
        "  minimum = find_minimum(numbers)\n",
        "  print(f\"The minimum of the numbers is: {minimum}\")\n",
        "if __name__ == \"__main__\":\n",
        "   main()\n",
        "\n"
      ],
      "metadata": {
        "colab": {
          "base_uri": "https://localhost:8080/"
        },
        "id": "uLXGOMyFsZ8E",
        "outputId": "30ba2fcd-ac12-4dc6-9996-d6e11a6815fc"
      },
      "execution_count": 19,
      "outputs": [
        {
          "output_type": "stream",
          "name": "stdout",
          "text": [
            "enter the number1:  10\n",
            "enter the number2:  5\n",
            "enter the number3:  6\n",
            "enter the number4:  7\n",
            "enter the number5:  2\n",
            "The minimum of the numbers is: 2.0\n"
          ]
        }
      ]
    },
    {
      "cell_type": "code",
      "source": [
        "x = int(input())\n",
        "if (x%3==0 & x%7==0):\n",
        "  print ('DIVISIBLE BY both 3 and 7')\n",
        "else:\n",
        "  print('NOT DIVISIBLE BY 3 and 7')"
      ],
      "metadata": {
        "colab": {
          "base_uri": "https://localhost:8080/"
        },
        "id": "zEcm45bNw4jA",
        "outputId": "a466b26b-21e9-4d60-df2c-9c98536d9e5a"
      },
      "execution_count": 20,
      "outputs": [
        {
          "output_type": "stream",
          "name": "stdout",
          "text": [
            "21\n",
            "DIVISIBLE BY both 3 and 7\n"
          ]
        }
      ]
    },
    {
      "cell_type": "code",
      "source": [
        "Age = int(input(\"enter the Age \"))\n",
        "if (Age >= 18):\n",
        "  print(\"You are eligible to vote \")\n",
        "else:\n",
        "  print(\"You are not eligible to vote\")"
      ],
      "metadata": {
        "colab": {
          "base_uri": "https://localhost:8080/"
        },
        "id": "UOHEcSy_x7UH",
        "outputId": "6a74e864-443f-450c-d61f-8693df99edb8"
      },
      "execution_count": 23,
      "outputs": [
        {
          "output_type": "stream",
          "name": "stdout",
          "text": [
            "enter the Age 16\n",
            "You are not eligible to vote\n"
          ]
        }
      ]
    },
    {
      "cell_type": "code",
      "source": [
        "Year = int(input(\"enter the year \"))\n",
        "if (Year % 4==0 & Year % 100 ==0 & Year % 400 ==0 ):\n",
        "  print(\"The year is leap year \")\n",
        "else:\n",
        "  print(\"The year is not leap year \")"
      ],
      "metadata": {
        "colab": {
          "base_uri": "https://localhost:8080/"
        },
        "id": "MWeA9uUsy08D",
        "outputId": "3b882e96-18a2-4b46-d00f-2825d1a1889d"
      },
      "execution_count": 24,
      "outputs": [
        {
          "output_type": "stream",
          "name": "stdout",
          "text": [
            "enter the year 2024\n",
            "The year is leap year \n"
          ]
        }
      ]
    },
    {
      "cell_type": "code",
      "source": [
        "def triangle_type(side1, side2, side3):\n",
        "    if side1 == side2 == side3:\n",
        "        return \"Equilateral\"\n",
        "    elif side1 == side2 or side1 == side3 or side2 == side3:\n",
        "        return \"Isosceles\"\n",
        "    else:\n",
        "        return \"Scalene\"\n",
        "\n",
        "def main():\n",
        "    side1 = float(input(\"Enter the length of the first side: \"))\n",
        "    side2 = float(input(\"Enter the length of the second side: \"))\n",
        "    side3 = float(input(\"Enter the length of the third side: \"))\n",
        "\n",
        "    triangle = triangle_type(side1, side2, side3)\n",
        "    print(f\"The triangle with sides {side1}, {side2}, {side3} is {triangle}.\")\n",
        "\n",
        "if __name__ == \"__main__\":\n",
        "    main()\n"
      ],
      "metadata": {
        "colab": {
          "base_uri": "https://localhost:8080/"
        },
        "id": "OrBzq7q82iKY",
        "outputId": "b2dc93f9-e7d9-40de-a8f0-28b33233f908"
      },
      "execution_count": 25,
      "outputs": [
        {
          "output_type": "stream",
          "name": "stdout",
          "text": [
            "Enter the length of the first side: 10\n",
            "Enter the length of the second side: 15\n",
            "Enter the length of the third side: 15\n",
            "The triangle with sides 10.0, 15.0, 15.0 is Isosceles.\n"
          ]
        }
      ]
    },
    {
      "cell_type": "code",
      "source": [
        "def main():\n",
        "    salary = float(input(\"Enter your current salary: \"))\n",
        "    years_of_service = int(input(\"Enter your years of service: \"))\n",
        "\n",
        "    if years_of_service > 5:\n",
        "        bonus_percentage = years_of_service * 0.05\n",
        "        bonus = salary * bonus_percentage\n",
        "        print(f\"Your bonus is: ${bonus:.2f}\")\n",
        "    else:\n",
        "        print(\"Sorry, you are not eligible for a bonus.\")\n",
        "\n",
        "if __name__ == \"__main__\":\n",
        "    main()\n"
      ],
      "metadata": {
        "colab": {
          "base_uri": "https://localhost:8080/"
        },
        "id": "baW9OsWx3ZMG",
        "outputId": "f8467cbd-d3c4-449c-add8-5d54c3ad3017"
      },
      "execution_count": 26,
      "outputs": [
        {
          "output_type": "stream",
          "name": "stdout",
          "text": [
            "Enter your current salary: 6\n",
            "Enter your years of service: 5\n",
            "Sorry, you are not eligible for a bonus.\n"
          ]
        }
      ]
    }
  ]
}