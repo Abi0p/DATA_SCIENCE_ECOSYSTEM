{
  "nbformat": 4,
  "nbformat_minor": 0,
  "metadata": {
    "colab": {
      "provenance": [],
      "authorship_tag": "ABX9TyP00U/aZFgJRltjEq30PY9M",
      "include_colab_link": true
    },
    "kernelspec": {
      "name": "python3",
      "display_name": "Python 3"
    },
    "language_info": {
      "name": "python"
    }
  },
  "cells": [
    {
      "cell_type": "markdown",
      "metadata": {
        "id": "view-in-github",
        "colab_type": "text"
      },
      "source": [
        "<a href=\"https://colab.research.google.com/github/Abi0p/DATA_SCIENCE_ECOSYSTEM/blob/main/day2.ipynb\" target=\"_parent\"><img src=\"https://colab.research.google.com/assets/colab-badge.svg\" alt=\"Open In Colab\"/></a>"
      ]
    },
    {
      "cell_type": "code",
      "execution_count": 9,
      "metadata": {
        "colab": {
          "base_uri": "https://localhost:8080/"
        },
        "id": "ufyFmgRepaT1",
        "outputId": "b9308eb0-9821-4b90-9566-dc54ef3ca375"
      },
      "outputs": [
        {
          "output_type": "stream",
          "name": "stdout",
          "text": [
            "0\n",
            "2\n",
            "4\n",
            "6\n",
            "8\n",
            "10\n",
            "12\n",
            "14\n",
            "16\n",
            "18\n",
            "20\n",
            "22\n",
            "24\n",
            "26\n",
            "28\n",
            "30\n",
            "32\n",
            "34\n",
            "36\n",
            "38\n",
            "40\n",
            "42\n",
            "44\n",
            "46\n",
            "48\n",
            "50\n",
            "52\n",
            "54\n",
            "56\n",
            "58\n",
            "60\n",
            "62\n",
            "64\n",
            "66\n",
            "68\n",
            "70\n",
            "72\n",
            "74\n",
            "76\n",
            "78\n",
            "80\n",
            "82\n",
            "84\n",
            "86\n",
            "88\n",
            "90\n",
            "92\n",
            "94\n",
            "96\n",
            "98\n"
          ]
        }
      ],
      "source": [
        "\n",
        "\n",
        "for i in range(0, 100):\n",
        "  if (i%2==0):\n",
        "     print(i)\n",
        ""
      ]
    },
    {
      "cell_type": "code",
      "source": [
        "for i in range (1,11):\n",
        "  print(\"7*\" , i , '=' ,7*i)"
      ],
      "metadata": {
        "colab": {
          "base_uri": "https://localhost:8080/"
        },
        "id": "JpUc6migtTNK",
        "outputId": "6174fd9d-7ae5-4b0b-925a-3f84a9429bca"
      },
      "execution_count": 12,
      "outputs": [
        {
          "output_type": "stream",
          "name": "stdout",
          "text": [
            "7* 1 = 7\n",
            "7* 2 = 14\n",
            "7* 3 = 21\n",
            "7* 4 = 28\n",
            "7* 5 = 35\n",
            "7* 6 = 42\n",
            "7* 7 = 49\n",
            "7* 8 = 56\n",
            "7* 9 = 63\n",
            "7* 10 = 70\n"
          ]
        }
      ]
    },
    {
      "cell_type": "markdown",
      "source": [
        "take the input from the user and print the table he want\n"
      ],
      "metadata": {
        "id": "APjlbE0twVwD"
      }
    },
    {
      "cell_type": "code",
      "source": [
        "n =int (input())\n",
        "for i in range (1,11):\n",
        "  print(n,\"*\",i,\"=\",n*i)"
      ],
      "metadata": {
        "colab": {
          "base_uri": "https://localhost:8080/"
        },
        "id": "T0ElSX5mwXzp",
        "outputId": "7f5bea9b-3e51-430c-cca5-9eec1b99d109"
      },
      "execution_count": 14,
      "outputs": [
        {
          "output_type": "stream",
          "name": "stdout",
          "text": [
            "8\n",
            "8 * 1 = 8\n",
            "8 * 2 = 16\n",
            "8 * 3 = 24\n",
            "8 * 4 = 32\n",
            "8 * 5 = 40\n",
            "8 * 6 = 48\n",
            "8 * 7 = 56\n",
            "8 * 8 = 64\n",
            "8 * 9 = 72\n",
            "8 * 10 = 80\n"
          ]
        }
      ]
    },
    {
      "cell_type": "markdown",
      "source": [
        "Take the input from the user and print the sum of all numbers upto input taken\n"
      ],
      "metadata": {
        "id": "gVAWlb5Ixk1a"
      }
    },
    {
      "cell_type": "code",
      "source": [
        "sum = 0\n",
        "n =int (input())\n",
        "for i in range (1,n+1):\n",
        "  sum=sum+i\n",
        "print(sum)"
      ],
      "metadata": {
        "colab": {
          "base_uri": "https://localhost:8080/"
        },
        "id": "h_rL7JkIxzfa",
        "outputId": "22d1845d-6a85-4641-921e-981e5bc3c761"
      },
      "execution_count": 17,
      "outputs": [
        {
          "output_type": "stream",
          "name": "stdout",
          "text": [
            "10\n",
            "55\n"
          ]
        }
      ]
    },
    {
      "cell_type": "markdown",
      "source": [
        "factorial"
      ],
      "metadata": {
        "id": "-W4r5K2-0Jav"
      }
    },
    {
      "cell_type": "code",
      "source": [
        "n = int(input())\n",
        "fact = 1\n",
        "for i in range (1,n+1):\n",
        "  fact=fact*i\n",
        "print(fact)\n"
      ],
      "metadata": {
        "colab": {
          "base_uri": "https://localhost:8080/"
        },
        "id": "vR634XAX0LsF",
        "outputId": "f54ef73b-b15b-4fa9-f3af-f81406d6f7c2"
      },
      "execution_count": 19,
      "outputs": [
        {
          "output_type": "stream",
          "name": "stdout",
          "text": [
            "2\n",
            "2\n"
          ]
        }
      ]
    },
    {
      "cell_type": "markdown",
      "source": [
        "develop a stone paper scissor game for the user"
      ],
      "metadata": {
        "id": "K-Fdto0724lN"
      }
    },
    {
      "cell_type": "code",
      "source": [
        "n = int(input('enter the number of rounds '))\n",
        "for i in range (1,n+1):\n",
        "  player1 = str(input(\"enter something from 'stone', 'paper','scissor' \"))\n",
        "  player2 = str(input(\"enter something from 'stone', 'paper','scissor'\"))\n",
        "  if (player1=='stone' and player2=='paper'):\n",
        "    print('player win in 2 in round')\n",
        "  if (player1=='stone' and player2=='scissor'):\n",
        "    print('player is 1 in round')\n",
        "  elif (player1=='paper' and player2=='stone'):\n",
        "    print('player is 1 in round')\n",
        "  elif (player1=='paper' and player2=='scissor'):\n",
        "    print('player is 2 in round')\n",
        "  elif (player1=='scissor' and player2=='paper'):\n",
        "    print('player is 1 in round')\n",
        "  elif (player1=='scissor' and player2=='stone'):\n",
        "    print('player is 2 in round')\n",
        "  else:\n",
        "    print(\"draw\")\n",
        "\n",
        "\n"
      ],
      "metadata": {
        "colab": {
          "base_uri": "https://localhost:8080/"
        },
        "id": "H9DnFKrm3AE-",
        "outputId": "c68ceec9-2ea2-4bcd-a704-8d65106e74b1"
      },
      "execution_count": 23,
      "outputs": [
        {
          "output_type": "stream",
          "name": "stdout",
          "text": [
            "enter the number of rounds 1\n",
            "enter something from 'stone', 'paper','scissor' paper\n",
            "enter something from 'stone', 'paper','scissor'stone\n",
            "player is 1 in round\n"
          ]
        }
      ]
    },
    {
      "cell_type": "markdown",
      "source": [
        "squared sum of even numbers until the input"
      ],
      "metadata": {
        "id": "_7aN_s3KEjDA"
      }
    },
    {
      "cell_type": "code",
      "source": [
        "n = int(input())\n",
        "squared = 0\n",
        "sum = 0\n",
        "for i in range (1,n+1):\n",
        "  squared = i*i\n",
        "  sum = sum + squared\n",
        "print(sum)"
      ],
      "metadata": {
        "colab": {
          "base_uri": "https://localhost:8080/"
        },
        "id": "niARsnbpErCL",
        "outputId": "b18bc6b6-a2b7-492d-cd01-635d75692a71"
      },
      "execution_count": 25,
      "outputs": [
        {
          "output_type": "stream",
          "name": "stdout",
          "text": [
            "3\n",
            "14\n"
          ]
        }
      ]
    },
    {
      "cell_type": "markdown",
      "source": [
        "Write a Python program to find the sum of all even numbers between 1 and 100 using a loop and conditional statement\n",
        "\n",
        "\n",
        "\n"
      ],
      "metadata": {
        "id": "J5lWicMuUJfe"
      }
    },
    {
      "cell_type": "code",
      "source": [
        "N = int(input())\n",
        "sum = 0\n",
        "for i in range (1,N+1):\n",
        "  if (i%3==0):\n",
        "    sum +=i\n",
        "print(sum)"
      ],
      "metadata": {
        "colab": {
          "base_uri": "https://localhost:8080/"
        },
        "id": "jQjsdVf_UQY5",
        "outputId": "a433bf33-dfb2-4557-ead4-42902d73780d"
      },
      "execution_count": 34,
      "outputs": [
        {
          "output_type": "stream",
          "name": "stdout",
          "text": [
            "6\n",
            "9\n"
          ]
        }
      ]
    },
    {
      "cell_type": "code",
      "source": [
        "n = int(input())\n",
        "squared = 1\n",
        "for i in range (1,n+1):\n",
        "  squared = i*i\n",
        "print (squared)\n"
      ],
      "metadata": {
        "colab": {
          "base_uri": "https://localhost:8080/"
        },
        "id": "fLyszNHiY_8j",
        "outputId": "6a49f59a-01e4-40a0-af24-8b84a81f8fbe"
      },
      "execution_count": 37,
      "outputs": [
        {
          "output_type": "stream",
          "name": "stdout",
          "text": [
            "100\n",
            "10000\n"
          ]
        }
      ]
    },
    {
      "cell_type": "markdown",
      "source": [
        "2. Create a program that calculates the factorial of a given number using a loop. Make sure to handle the case where the input is negative.\n"
      ],
      "metadata": {
        "id": "_tJn4P3JVAVs"
      }
    },
    {
      "cell_type": "code",
      "source": [
        "n = int(input(\"Enter a number: \"))\n",
        "fact = 1\n",
        "\n",
        "if n < 0:\n",
        "    print(\"Factorial is not defined for negative numbers.\")\n",
        "else:\n",
        "    for i in range(1, n + 1):\n",
        "        fact *= i\n",
        "    print(\"Factorial of\", n, \"is:\", fact)\n"
      ],
      "metadata": {
        "colab": {
          "base_uri": "https://localhost:8080/"
        },
        "id": "DSDs9XgmVFrf",
        "outputId": "51df03b2-7f84-4db3-a936-5acdfb0c0214"
      },
      "execution_count": 30,
      "outputs": [
        {
          "output_type": "stream",
          "name": "stdout",
          "text": [
            "Enter a number: -5\n",
            "Factorial is not defined for negative numbers.\n"
          ]
        }
      ]
    },
    {
      "cell_type": "code",
      "source": [
        "\n",
        "total_sum = 0\n",
        "input_number = None\n",
        "\n",
        "while True:\n",
        "    input_number = int(input(\"Enter a number: \"))\n",
        "    if input_number % 2 == 0:\n",
        "        break\n",
        "    total_sum += input_number\n",
        "print(\"Sum of all numbers entered:\", total_sum)\n"
      ],
      "metadata": {
        "colab": {
          "base_uri": "https://localhost:8080/"
        },
        "id": "ZNrp_C9YXri6",
        "outputId": "4f810788-ff59-436c-90fa-eeb86fb50641"
      },
      "execution_count": 31,
      "outputs": [
        {
          "output_type": "stream",
          "name": "stdout",
          "text": [
            "Enter a number: 1\n",
            "Enter a number: 5\n",
            "Enter a number: 2\n",
            "Sum of all numbers entered: 6\n"
          ]
        }
      ]
    }
  ]
}