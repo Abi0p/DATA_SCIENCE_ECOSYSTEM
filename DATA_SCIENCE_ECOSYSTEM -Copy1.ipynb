{
 "cells": [
  {
   "cell_type": "markdown",
   "id": "ee10fdfe",
   "metadata": {},
   "source": [
    "# Data Science Tools and Ecosystem"
   ]
  },
  {
   "cell_type": "markdown",
   "id": "ef050599",
   "metadata": {},
   "source": [
    "In This notebook, Data Science Tools and Ecosystem are sumarized"
   ]
  },
  {
   "cell_type": "markdown",
   "id": "07089b53",
   "metadata": {},
   "source": [
    "Some of the popular languages that Data Scientist use are : \n",
    "    1. Python \n",
    "    2. R \n",
    "    3. SQL\n",
    "    4. Java etc..;"
   ]
  },
  {
   "cell_type": "markdown",
   "id": "312ec55c",
   "metadata": {},
   "source": [
    "Some of the commonly used libraries used by Data Scientists include:\n",
    "1. Tensorflow \n",
    "2. Numpy.\n",
    "3. Scipy\n",
    "4. Pandas\n",
    "5. Matplotlib\n",
    "6. Pytorch etc;"
   ]
  },
  {
   "cell_type": "markdown",
   "id": "89b75418",
   "metadata": {},
   "source": [
    "|Data Science Tools|\n",
    "|---|\n",
    "|SAS|\n",
    "|Apache Handoop|\n",
    "|Tensorflow|"
   ]
  },
  {
   "cell_type": "markdown",
   "id": "93b8ad9f",
   "metadata": {},
   "source": [
    "# Below are the examples of evaluating arithmatic expression examples"
   ]
  },
  {
   "cell_type": "code",
   "execution_count": 1,
   "id": "be781a74",
   "metadata": {},
   "outputs": [
    {
     "data": {
      "text/plain": [
       "21"
      ]
     },
     "execution_count": 1,
     "metadata": {},
     "output_type": "execute_result"
    }
   ],
   "source": [
    "#this is a common arithmatic example to multiply and then add integers\n",
    "\n",
    "(3*4)+9"
   ]
  },
  {
   "cell_type": "code",
   "execution_count": 2,
   "id": "ce682ef1",
   "metadata": {},
   "outputs": [
    {
     "data": {
      "text/plain": [
       "3.3333333333333335"
      ]
     },
     "execution_count": 2,
     "metadata": {},
     "output_type": "execute_result"
    }
   ],
   "source": [
    "#This will convert 200 minutes to hours by dividing by 60\n",
    "\n",
    "200/60"
   ]
  },
  {
   "cell_type": "markdown",
   "id": "5014a787",
   "metadata": {},
   "source": [
    "_objective_\n",
    "* List popular langauage for Data Scinece \n",
    "* List popular libraries for Data Science \n",
    "* List of Well known Data Science Tools \n",
    "* How to provide coments in the cell "
   ]
  },
  {
   "cell_type": "markdown",
   "id": "00c95c41",
   "metadata": {},
   "source": [
    "# Author \n",
    "Gourav Kumar"
   ]
  },
  {
   "cell_type": "code",
   "execution_count": null,
   "id": "0d57e948",
   "metadata": {},
   "outputs": [],
   "source": []
  }
 ],
 "metadata": {
  "kernelspec": {
   "display_name": "Python 3 (ipykernel)",
   "language": "python",
   "name": "python3"
  },
  "language_info": {
   "codemirror_mode": {
    "name": "ipython",
    "version": 3
   },
   "file_extension": ".py",
   "mimetype": "text/x-python",
   "name": "python",
   "nbconvert_exporter": "python",
   "pygments_lexer": "ipython3",
   "version": "3.11.4"
  }
 },
 "nbformat": 4,
 "nbformat_minor": 5
}
